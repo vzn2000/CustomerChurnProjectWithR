{
  "nbformat": 4,
  "nbformat_minor": 0,
  "metadata": {
    "colab": {
      "name": "ETLwithPython.ipynb",
      "provenance": [],
      "authorship_tag": "ABX9TyP/iiHL2ki5ZnIgha6YjKO+",
      "include_colab_link": true
    },
    "kernelspec": {
      "name": "python3",
      "display_name": "Python 3"
    }
  },
  "cells": [
    {
      "cell_type": "markdown",
      "metadata": {
        "id": "view-in-github",
        "colab_type": "text"
      },
      "source": [
        "<a href=\"https://colab.research.google.com/github/vzn2000/CustomerChurnProjectWithR/blob/master/ETLwithPython.ipynb\" target=\"_parent\"><img src=\"https://colab.research.google.com/assets/colab-badge.svg\" alt=\"Open In Colab\"/></a>"
      ]
    },
    {
      "cell_type": "code",
      "metadata": {
        "id": "fLKHwnL6LOFc"
      },
      "source": [
        ""
      ],
      "execution_count": null,
      "outputs": []
    },
    {
      "cell_type": "markdown",
      "metadata": {
        "id": "ylTOgNdFLVH7"
      },
      "source": [
        "# ETL Process with Python"
      ]
    },
    {
      "cell_type": "code",
      "metadata": {
        "id": "OFdp1AIbLbre"
      },
      "source": [
        "# Import create_engine function\r\n",
        "\r\n",
        "from sqlalchemy import create_engine\r\n",
        "import pandas as pd"
      ],
      "execution_count": 1,
      "outputs": []
    },
    {
      "cell_type": "markdown",
      "metadata": {
        "id": "qhWRn2UhLt4I"
      },
      "source": [
        "## 1. Extracting data in Python \r\n",
        "\r\n",
        "- Credentials for Cassendra database"
      ]
    },
    {
      "cell_type": "code",
      "metadata": {
        "id": "s7RzHs-MLkTE"
      },
      "source": [
        "username    = 'datawiz'\r\n",
        "password    = 'datawiz123'\r\n",
        "host        = 'cassendra.cdjflmucstpo.us-east-1.rds.amazonaws.com:3306'\r\n",
        "database    = 'cassendra'\r\n"
      ],
      "execution_count": 2,
      "outputs": []
    },
    {
      "cell_type": "markdown",
      "metadata": {
        "id": "Yse_Ho0jL-y6"
      },
      "source": [
        "- Create an engine to the Cassendra database"
      ]
    },
    {
      "cell_type": "code",
      "metadata": {
        "id": "0D9uKeuILzvx"
      },
      "source": [
        "engine_db1 = create_engine('mysql+pymysql://{0}:{1}@{2}/{3}'.format(username,password,host,database))"
      ],
      "execution_count": 3,
      "outputs": []
    },
    {
      "cell_type": "markdown",
      "metadata": {
        "id": "YpMBrackMW5N"
      },
      "source": [
        "- First Table Extract"
      ]
    },
    {
      "cell_type": "code",
      "metadata": {
        "id": "qb-RF56JMJZQ"
      },
      "source": [
        "query = '''SELECT * FROM customer'''\r\n",
        "df = pd.read_sql(query, engine_db1)"
      ],
      "execution_count": null,
      "outputs": []
    },
    {
      "cell_type": "markdown",
      "metadata": {
        "id": "3fELvAZwMia6"
      },
      "source": [
        "- Second Table Extract"
      ]
    },
    {
      "cell_type": "code",
      "metadata": {
        "id": "ksaIYIIEMlfY"
      },
      "source": [
        "query2 = '''SELECT * FROM customer_acquisition'''\r\n",
        "df2 = pd.read_sql(query, engine_db1)"
      ],
      "execution_count": null,
      "outputs": []
    },
    {
      "cell_type": "markdown",
      "metadata": {
        "id": "-7No1U03MstC"
      },
      "source": [
        "## 2. Transform Data in Python\r\n",
        "\r\n",
        "\r\n",
        "- Example: Merged Data Frame"
      ]
    },
    {
      "cell_type": "code",
      "metadata": {
        "id": "5NSa1ZuCMxX5"
      },
      "source": [
        "df_merge = pd.merge(df, df2, on='CUSTOMER_CODE')"
      ],
      "execution_count": null,
      "outputs": []
    },
    {
      "cell_type": "markdown",
      "metadata": {
        "id": "gGDxhch9NEkc"
      },
      "source": [
        "## 3. Loading Data in Python\r\n",
        "\r\n",
        "- Credentials for Cassandra_DW database"
      ]
    },
    {
      "cell_type": "code",
      "metadata": {
        "id": "hKG-P8ONNXQg"
      },
      "source": [
        "usernamedw    = 'datawiz'\r\n",
        "passworddw    = 'datawiz123'\r\n",
        "hostdw        = 'cassendra.cdjflmucstpo.us-east-1.rds.amazonaws.com:3306'\r\n",
        "databasedw    = 'cassendraDW'"
      ],
      "execution_count": 4,
      "outputs": []
    },
    {
      "cell_type": "markdown",
      "metadata": {
        "id": "VSz05TdaNl51"
      },
      "source": [
        "- Create an engine to the cassendraDw database"
      ]
    },
    {
      "cell_type": "code",
      "metadata": {
        "id": "Omef1mv6Ni1R"
      },
      "source": [
        "engine_db2 = create_engine('mysql+pymysql://{0}:{1}@{2}/{3}'.format(usernamedw,passworddw,hostdw,databasedw))"
      ],
      "execution_count": null,
      "outputs": []
    },
    {
      "cell_type": "markdown",
      "metadata": {
        "id": "nx-asQk7OB-0"
      },
      "source": [
        "- Python Load to SQL"
      ]
    },
    {
      "cell_type": "code",
      "metadata": {
        "id": "5ZMhcQvKOKdH"
      },
      "source": [
        "df_merge.to_sql('customer', engine_db2, index=False, if_exists='replace')\r\n",
        "\r\n",
        "print(\"New Table inserted in cassendraDW database\")"
      ],
      "execution_count": null,
      "outputs": []
    }
  ]
}